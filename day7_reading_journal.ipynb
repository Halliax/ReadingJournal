{
 "cells": [
  {
   "cell_type": "markdown",
   "metadata": {},
   "source": [
    "# Day 7 Reading Journal\n",
    "\n",
    "This journal includes several required exercises, but it is meant to encourage active reading more generally.  You should use the journal to take detailed notes, catalog questions, and explore the content from Think Python deeply.\n",
    "\n",
    "Reading: Think Python Chapter 11, 12\n",
    "\n",
    "**Due: Thursday, February 18 at 12 noon**\n",
    "\n"
   ]
  },
  {
   "cell_type": "markdown",
   "metadata": {},
   "source": [
    "## [Chapter 11](http://www.greenteapress.com/thinkpython/html/thinkpython012.html)\n"
   ]
  },
  {
   "cell_type": "markdown",
   "metadata": {},
   "source": [
    "**Quick check:** In about one sentence using your own words, what is a dictionary?"
   ]
  },
  {
   "cell_type": "markdown",
   "metadata": {},
   "source": [
    "Effectively a mutable reference table; it contains \"keys\", which can be anything (instead of just integer indices) and corresponding values, which can also be anything. "
   ]
  },
  {
   "cell_type": "markdown",
   "metadata": {
    "is_question": true,
    "problem": "Exercise 11.2"
   },
   "source": [
    "### Exercise 2  \n",
    "\n",
    "Dictionaries have a [method called `get`](https://docs.python.org/2/library/stdtypes.html#mapping-types-dict) that takes a key and a default value. If the key appears in the dictionary, `get` returns the corresponding value; otherwise it returns the default value. For example:\n",
    "\n",
    "```\n",
    ">>> h = histogram('a')\n",
    ">>> print h\n",
    "{'a': 1}\n",
    ">>> h.get('a', 0)\n",
    "1\n",
    ">>> h.get('b', 0)\n",
    "0\n",
    "```\n",
    "\n",
    "Use `get` to write `histogram` more concisely. You should be able to eliminate the `if` statement. Add unit tests for your histogram implementation."
   ]
  },
  {
   "cell_type": "code",
   "execution_count": 2,
   "metadata": {
    "collapsed": false,
    "solution": "Exercise 11.2"
   },
   "outputs": [
    {
     "name": "stdout",
     "output_type": "stream",
     "text": [
      "{'a': 2, ' ': 2, 'b': 2, 'o': 3, 'n': 1, 's': 2, 't': 2}\n"
     ]
    }
   ],
   "source": [
    "def histogram(s):\n",
    "    d = dict()\n",
    "    for c in s:\n",
    "        d[c] = d.get(c,0)+1\n",
    "    return d\n",
    "\n",
    "print histogram(\"boats on boats\")"
   ]
  },
  {
   "cell_type": "markdown",
   "metadata": {
    "is_question": true,
    "problem": "Exercise 11.4"
   },
   "source": [
    "### Exercise 4  \n",
    "\n",
    "Modify `reverse_lookup` so that it builds and returns a list of all keys that map to `v`, or an empty list if there are none. Add unit tests for your implementation."
   ]
  },
  {
   "cell_type": "code",
   "execution_count": 8,
   "metadata": {
    "collapsed": false,
    "solution": "Exercise 11.4"
   },
   "outputs": [
    {
     "name": "stdout",
     "output_type": "stream",
     "text": [
      "['a', 'c']\n"
     ]
    }
   ],
   "source": [
    "def reverse_lookup(d, v):\n",
    "    ks = []\n",
    "    for k in d:\n",
    "        if d[k] == v:\n",
    "            ks.append(k)\n",
    "    return ks\n",
    "\n",
    "print reverse_lookup({'a':'boat','b':'ship','c':'boat','d':'yacht'},'boat')"
   ]
  },
  {
   "cell_type": "markdown",
   "metadata": {},
   "source": [
    "If you'd like to learn more about errors and exceptions, you can check out the [Python tutorial](https://docs.python.org/2/tutorial/errors.html) or read ahead to [Appendix A](http://www.greenteapress.com/thinkpython/html/thinkpython021.html) of Think Python. If you choose to use doctest for your unit testing, it can also [deal with exceptions](https://docs.python.org/2/library/doctest.html#what-about-exceptions)."
   ]
  },
  {
   "cell_type": "markdown",
   "metadata": {},
   "source": [
    "**Quick check** What type of objects can be used as keys to a dictionary, i.e. what property must they have?"
   ]
  },
  {
   "cell_type": "markdown",
   "metadata": {},
   "source": [
    "They must be hashable. Mutable types are not hashable. "
   ]
  },
  {
   "cell_type": "markdown",
   "metadata": {
    "is_question": true,
    "problem": "Exercise 11.6"
   },
   "source": [
    "### Exercise 6 (modified)\n",
    "\n",
    "Create a memoized version of your Levenshtein distance function from Day 7. What kind of performance change do you see?\n",
    "\n",
    "Optional: If you'd like to get some quantitative results, you could check out the [timeit](https://docs.python.org/2/library/timeit.html) module\n",
    "\n",
    "Note: You can also study Fibonacci here if you prefer."
   ]
  },
  {
   "cell_type": "code",
   "execution_count": 5,
   "metadata": {
    "collapsed": true
   },
   "outputs": [],
   "source": [
    "known = dict()"
   ]
  },
  {
   "cell_type": "code",
   "execution_count": 8,
   "metadata": {
    "collapsed": false,
    "solution": "Exercise 11.6"
   },
   "outputs": [
    {
     "name": "stdout",
     "output_type": "stream",
     "text": [
      "8\n",
      "{('r', 'lship'): 5, ('boats', 'oat'): 2, ('tein', 'distance'): 7, ('boat', 't'): 3, ('ein', 'e'): 2, ('htein', 'distance'): 7, ('chooner', 'tallship'): 8, ('shtein', 'nce'): 5, ('schooner', 'lship'): 7, ('venshtein', 'ance'): 7, ('oner', 'ship'): 4, ('s', 'oat'): 3, ('oner', 'p'): 4, ('en', 'ting'): 3, ('chooner', 'allship'): 7, ('ner', 'lship'): 5, ('enshtein', 'tance'): 7, ('boats', 'goat'): 2, ('venshtein', 'ce'): 7, ('n', 'tting'): 4, ('venshtein', 'stance'): 8, ('oner', 'allship'): 7, ('evenshtein', 'distance'): 9, ('enshtein', 'nce'): 6, ('ooner', 'lship'): 5, ('ts', 'boat'): 4, ('ner', 'ship'): 4, ('venshtein', 'istance'): 8, ('ein', 'distance'): 6, ('ts', 'at'): 2, ('shtein', 'ce'): 5, ('enshtein', 'istance'): 7, ('n', 'itting'): 5, ('enshtein', 'distance'): 7, ('ein', 'ce'): 3, ('in', 'distance'): 6, ('n', 'distance'): 7, ('at', 'boat'): 2, ('r', 'hip'): 3, ('ein', 'nce'): 3, ('er', 'allship'): 7, ('ts', 't'): 1, ('oat', 'at'): 1, ('oner', 'llship'): 6, ('oats', 'at'): 2, ('ten', 'sitting'): 4, ('itten', 'ting'): 3, ('nshtein', 'nce'): 5, ('n', 'sitting'): 6, ('evenshtein', 'ce'): 8, ('boat', 'boat'): 0, ('tein', 'nce'): 4, ('itten', 'g'): 5, ('boats', 't'): 4, ('nshtein', 'ce'): 6, ('enshtein', 'stance'): 7, ('tten', 'ing'): 4, ('nshtein', 'ance'): 6, ('ooner', 'hip'): 5, ('at', 'at'): 0, ('ein', 'istance'): 6, ('er', 'ip'): 2, ('itten', 'ing'): 4, ('nshtein', 'distance'): 7, ('tten', 'tting'): 2, ('oats', 's'): 3, ('levenshtein', 'stance'): 9, ('kitten', 'ng'): 6, ('s', 't'): 1, ('ten', 'ng'): 3, ('oat', 'boat'): 1, ('enshtein', 'e'): 6, ('boats', 'boat'): 1, ('ein', 'stance'): 5, ('kitten', 'ting'): 4, ('ten', 'g'): 3, ('evenshtein', 'istance'): 9, ('htein', 'nce'): 4, ('levenshtein', 'ance'): 9, ('en', 'tting'): 4, ('ats', 'boat'): 3, ('ts', 's'): 1, ('evenshtein', 'tance'): 8, ('r', 'tallship'): 8, ('en', 'ing'): 2, ('htein', 'tance'): 5, ('venshtein', 'nce'): 7, ('enshtein', 'ance'): 6, ('r', 'ip'): 2, ('evenshtein', 'e'): 7, ('chooner', 'ship'): 6, ('r', 'p'): 1, ('htein', 'istance'): 6, ('itten', 'ng'): 5, ('oats', 'boat'): 2, ('kitten', 'tting'): 4, ('nshtein', 'stance'): 6, ('en', 'sitting'): 6, ('schooner', 'p'): 8, ('enshtein', 'ce'): 7, ('schooner', 'hip'): 7, ('boat', 'at'): 2, ('er', 'hip'): 3, ('levenshtein', 'distance'): 10, ('in', 'istance'): 5, ('hooner', 'tallship'): 8, ('n', 'nce'): 2, ('oner', 'ip'): 4, ('hooner', 'lship'): 6, ('n', 'e'): 1, ('at', 't'): 1, ('shtein', 'e'): 5, ('t', 'oat'): 2, ('htein', 'ce'): 4, ('shtein', 'tance'): 6, ('oat', 't'): 2, ('venshtein', 'distance'): 8, ('n', 'tance'): 4, ('t', 't'): 0, ('oner', 'hip'): 4, ('ooner', 'ship'): 5, ('ner', 'llship'): 6, ('hooner', 'ship'): 6, ('ner', 'allship'): 7, ('ner', 'hip'): 3, ('oats', 'goat'): 2, ('r', 'allship'): 7, ('kitten', 'sitting'): 3, ('chooner', 'llship'): 7, ('ats', 't'): 2, ('tten', 'g'): 4, ('in', 'ance'): 3, ('boats', 's'): 4, ('schooner', 'ip'): 8, ('tein', 'ance'): 4, ('levenshtein', 'e'): 8, ('ats', 'goat'): 3, ('schooner', 'ship'): 6, ('t', 'boat'): 3, ('chooner', 'p'): 7, ('n', 'g'): 1, ('ooner', 'llship'): 6, ('levenshtein', 'ce'): 8, ('oner', 'lship'): 5, ('kitten', 'ing'): 5, ('s', 'at'): 2, ('n', 'ng'): 1, ('evenshtein', 'ance'): 8, ('tein', 'istance'): 6, ('in', 'nce'): 3, ('er', 'lship'): 5, ('shtein', 'ance'): 5, ('tein', 'stance'): 5, ('tein', 'tance'): 4, ('ooner', 'p'): 5, ('schooner', 'allship'): 8, ('in', 'ce'): 2, ('hooner', 'allship'): 7, ('r', 'ship'): 4, ('en', 'g'): 2, ('itten', 'sitting'): 3, ('tten', 'itting'): 3, ('er', 'llship'): 6, ('ten', 'ting'): 2, ('tten', 'ting'): 2, ('at', 'oat'): 1, ('in', 'e'): 2, ('en', 'ng'): 2, ('tten', 'sitting'): 4, ('ner', 'p'): 3, ('t', 'at'): 1, ('ooner', 'allship'): 7, ('shtein', 'distance'): 7, ('n', 'stance'): 5, ('er', 'p'): 2, ('hooner', 'llship'): 6, ('tein', 'e'): 3, ('ein', 'tance'): 4, ('itten', 'itting'): 2, ('chooner', 'lship'): 7, ('n', 'ting'): 3, ('ats', 'oat'): 2, ('itten', 'tting'): 3, ('hooner', 'p'): 6, ('oat', 'oat'): 0, ('n', 'istance'): 6, ('nshtein', 'e'): 6, ('hooner', 'ip'): 6, ('levenshtein', 'tance'): 9, ('evenshtein', 'nce'): 8, ('r', 'llship'): 6, ('ten', 'itting'): 3, ('n', 'ance'): 3, ('venshtein', 'e'): 7, ('shtein', 'stance'): 5, ('boat', 'oat'): 1, ('levenshtein', 'istance'): 9, ('boats', 'at'): 3, ('levenshtein', 'nce'): 9, ('kitten', 'itting'): 3, ('tein', 'ce'): 3, ('in', 'tance'): 4, ('nshtein', 'tance'): 6, ('ten', 'tting'): 2, ('oats', 'oat'): 1, ('htein', 'e'): 4, ('ts', 'goat'): 4, ('s', 's'): 0, ('n', 'ce'): 2, ('schooner', 'llship'): 8, ('oner', 'tallship'): 8, ('oats', 't'): 3, ('nshtein', 'istance'): 6, ('ner', 'ip'): 3, ('shtein', 'istance'): 6, ('evenshtein', 'stance'): 8, ('ooner', 'tallship'): 8, ('ooner', 'ip'): 5, ('schooner', 'tallship'): 8, ('er', 'ship'): 4, ('ts', 'oat'): 3, ('htein', 'stance'): 5, ('kitten', 'g'): 6, ('tten', 'ng'): 4, ('ats', 's'): 2, ('n', 'ing'): 2, ('en', 'itting'): 5, ('ats', 'at'): 1, ('hooner', 'hip'): 5, ('venshtein', 'tance'): 7, ('ner', 'tallship'): 8, ('s', 'goat'): 4, ('ein', 'ance'): 4, ('er', 'tallship'): 8, ('chooner', 'ip'): 7, ('ten', 'ing'): 3, ('in', 'stance'): 5, ('s', 'boat'): 4, ('htein', 'ance'): 5, ('chooner', 'hip'): 6}\n"
     ]
    }
   ],
   "source": [
    "def levenshtein_distance(string1,string2):\n",
    "    \"\"\"\n",
    "    Returns the Levenshtein distance between two strings. This is the\n",
    "    minimum number of single-character substitutions, insertions and\n",
    "    deletions required to change one string into the other.\n",
    "\n",
    "    >>> levenshtein_distance('boat','boat')\n",
    "    0\n",
    "    >>> levenshtein_distance('boats','boat')\n",
    "    1\n",
    "    >>> levenshtein_distance('boats','goat')\n",
    "    2\n",
    "    >>> levenshtein_distance('kitten','sitting')\n",
    "    3\n",
    "    >>> levenshtein_distance('boats','s')\n",
    "    4\n",
    "    \"\"\"\n",
    "    if (string1,string2) in known:\n",
    "        return known[(string1,string2)]\n",
    "    \n",
    "    if len(string1) == 0:\n",
    "        return len(string2)\n",
    "    if len(string2) == 0:\n",
    "        return len(string1)\n",
    "\n",
    "    if string1[0] == string2[0]:\n",
    "        cost = 0\n",
    "    else:\n",
    "        cost = 1\n",
    "    \n",
    "    res = min(levenshtein_distance(string1[1:],string2[1:]),\n",
    "                levenshtein_distance(string1,string2[1:]),\n",
    "                levenshtein_distance(string1[1:],string2)) + cost\n",
    "    known[(string1,string2)] = res\n",
    "    return res\n",
    "\n",
    "import doctest\n",
    "doctest.testmod()\n",
    "\n",
    "print levenshtein_distance('schooner','tallship')\n",
    "print known"
   ]
  },
  {
   "cell_type": "markdown",
   "metadata": {},
   "source": [
    "## [Chapter 12](http://www.greenteapress.com/thinkpython/html/thinkpython013.html)\n",
    "\n",
    "**Quick check:** In about one sentence using your own words, what is a tuple?"
   ]
  },
  {
   "cell_type": "markdown",
   "metadata": {},
   "source": [
    "Basically, an immutable list. "
   ]
  },
  {
   "cell_type": "markdown",
   "metadata": {
    "is_question": true,
    "problem": "Exercise 12.1"
   },
   "source": [
    "### Exercise 1  \n",
    "\n",
    "Many of the built-in functions use variable-length argument tuples. For example, `max` and `min` can take any number of arguments:\n",
    "\n",
    "```\n",
    ">>> max(1,2,3)\n",
    "3\n",
    "```\n",
    "\n",
    "But `sum` does not.\n",
    "\n",
    "```\n",
    ">>> sum(1,2,3)\n",
    "TypeError: sum expected at most 2 arguments, got 3\n",
    "```\n",
    "\n",
    "Write a function called ```sumall``` that takes any number of arguments and returns their sum. \n",
    "\n",
    "Write unit tests for your function. Do I actually need to keep saying this? Let's assume it's always a good idea :)"
   ]
  },
  {
   "cell_type": "code",
   "execution_count": 3,
   "metadata": {
    "collapsed": false,
    "solution": "Exercise 12.1"
   },
   "outputs": [
    {
     "data": {
      "text/plain": [
       "TestResults(failed=0, attempted=2)"
      ]
     },
     "execution_count": 3,
     "metadata": {},
     "output_type": "execute_result"
    }
   ],
   "source": [
    "def sumall(*args):\n",
    "    \"\"\"\n",
    "    >>> sumall(1,2,3,4)\n",
    "    10\n",
    "    >>> sumall(4)\n",
    "    4\n",
    "    \"\"\"\n",
    "    total = 0\n",
    "    for arg in args:\n",
    "        total += arg\n",
    "    return total\n",
    "\n",
    "doctest.testmod()"
   ]
  },
  {
   "cell_type": "markdown",
   "metadata": {},
   "source": [
    "If you're interested in more flexible ways to pass arguments to functions, check out the [Python tutorial](https://docs.python.org/2/tutorial/controlflow.html#more-on-defining-functions). For instance, you can also use keyword arguments, which are collected into a dictionary just like `*` gathers variable numbers of positional arguments into a tuple.\n",
    "\n",
    "This pattern is very common for defining functions with complex optional behaviors in Python, and you will often see definitions like:\n",
    "\n",
    "```\n",
    "def my_func(required_argument1, *arguments, **keywords):\n",
    "    ...\n",
    "```"
   ]
  },
  {
   "cell_type": "markdown",
   "metadata": {
    "is_question": true,
    "problem": "Exercise 12 sort"
   },
   "source": [
    "### Exercise\n",
    "\n",
    "Write a function `sort_by_last_letter` that takes a list of words and returns a new list with the words sorted alphabetically by the _last letter_ in the word. Hint: use the **Decorate, Sort, Undecorate** pattern. Write unit tests for your function."
   ]
  },
  {
   "cell_type": "code",
   "execution_count": 6,
   "metadata": {
    "collapsed": false,
    "solution": "Exercise 12 sort"
   },
   "outputs": [
    {
     "name": "stdout",
     "output_type": "stream",
     "text": [
      "['boats', 'boat', 'boat show']\n"
     ]
    }
   ],
   "source": [
    "def sort_by_last_letter(words):\n",
    "    \n",
    "    tagged = [(word[-1],word) for word in words]\n",
    "    tagged.sort()\n",
    "    \n",
    "    res = [word for letter, word in tagged]\n",
    "    return res\n",
    "\n",
    "print sort_by_last_letter(['boat','boats','boat show'])"
   ]
  },
  {
   "cell_type": "markdown",
   "metadata": {},
   "source": [
    "**Quick check** Give an example of when you might use each sequence type:\n",
    "\n",
    "- tuple\n",
    "\n",
    "- list\n",
    "\n",
    "- string"
   ]
  },
  {
   "cell_type": "markdown",
   "metadata": {},
   "source": [
    "tuple: when you need to use a combination of several values as a key in a dictionary; requires immutable type\n",
    "\n",
    "list: when you need the mutable flexibility of a sequence that can contain any type and be modified as necessary\n",
    "\n",
    "string: when you're dealing with words and don't need mutability"
   ]
  },
  {
   "cell_type": "markdown",
   "metadata": {
    "is_question": true,
    "problem": "Exercise 12.3"
   },
   "source": [
    "### Exercise 3  \n",
    "\n",
    "Write a function called `most_frequent` that takes a string and prints the letters in decreasing order of frequency. Find text samples from several different languages and see how letter frequency varies between languages. Compare your results with the tables at http://en.wikipedia.org/wiki/Letter_frequencies. \n",
    "\n",
    "Allen's solution (try it on your own first): http://thinkpython.com/code/most_frequent.py. "
   ]
  },
  {
   "cell_type": "code",
   "execution_count": 15,
   "metadata": {
    "collapsed": false,
    "solution": "Exercise 12.3"
   },
   "outputs": [
    {
     "name": "stdout",
     "output_type": "stream",
     "text": [
      "[(37, 'a'), (33, 'e'), (30, 'o'), (23, 'r'), (22, 't'), (21, 's'), (20, 'n'), (16, 'l'), (14, 'i'), (9, 'd'), (8, 'h'), (8, 'f'), (7, 'b'), (6, 'w'), (6, 'v'), (6, 'p'), (6, 'c'), (5, 'm'), (4, '.'), (3, 'y'), (3, 'u'), (3, 'g'), (3, ','), (2, 'k'), (2, ')'), (2, '('), (1, 'z'), (1, 'S'), (1, 'I'), (1, 'H'), (1, 'A')]\n",
      "\n",
      "[(33, 'e'), (32, 'a'), (28, 'o'), (25, 'r'), (20, 'n'), (20, 'i'), (17, 'u'), (16, 'c'), (14, 't'), (12, 's'), (11, 'm'), (10, 'l'), (9, 'd'), (9, ','), (7, 'p'), (6, 'g'), (6, 'f'), (5, '\\xc3'), (4, 'v'), (4, 'q'), (3, '\\xb3'), (2, '\\xa9'), (2, 'z'), (2, 'y'), (2, 'h'), (2, 'b'), (2, 'S'), (2, '.'), (1, 'U'), (1, 'F'), (1, 'E')]\n"
     ]
    }
   ],
   "source": [
    "def most_frequent(input_string):\n",
    "    d = dict()\n",
    "    string = ''.join(input_string.split())\n",
    "    for char in string:\n",
    "        d[char] = d.get(char,0) + 1\n",
    "    \n",
    "    tagged = [(d[char],char) for char in d]\n",
    "    tagged.sort(reverse=True)\n",
    "    return tagged\n",
    "    return [char for frequency, char in tagged]\n",
    "\n",
    "print most_frequent(\"A boat is a watercraft of any size designed to float or plane, to work or travel on water.\"\n",
    "                    \"Small boats are typically found on inland (lakes) or in protected coastal areas. However,\"\n",
    "                    \"boats such as the whaleboat were designed for operation from a ship in an offshore environment.\" \n",
    "                    \"In naval terms, a boat is a vessel small enough to be carried aboard another vessel (a ship).\")\n",
    "print \n",
    "print most_frequent(\"Un barco es cualquier construcción cóncava y fusiforme, de madera, metal, fibra de vidrio u\"\n",
    "                    \"otro material, incluso de hormigón, como el SS Faith que, por su forma, es capaz de flotar en\"\n",
    "                    \"el agua y que se utiliza para navegar como medio de transporte. Es, por consiguiente, un\"\n",
    "                    \"término genérico con el que se puede referir tanto a una ligera canoa como a un portaaviones.\")"
   ]
  },
  {
   "cell_type": "markdown",
   "metadata": {
    "is_question": true,
    "problem": "Exercise 12.6"
   },
   "source": [
    "### Challenge: Exercise 6   (optional)\n",
    "\n",
    "From a [Car Talk Puzzler](http://www.cartalk.com/content/puzzlers):\n",
    "\n",
    "What is the longest English word, that remains a valid English word, as you remove its letters one at a time?\n",
    "\n",
    "Now, letters can be removed from either end, or the middle, but you can’t rearrange any of the letters. Every time you drop a letter, you wind up with another English word. If you do that, you’re eventually going to wind up with one letter and that too is going to be an English word—one that’s found in the dictionary. I want to know what’s the longest word and how many letters does it have?\n",
    "\n",
    "I’m going to give you a little modest example: Sprite. Ok? You start off with sprite, you take a letter off, one from the interior of the word, take the r away, and we’re left with the word spite, then we take the e off the end, we’re left with spit, we take the s off, we’re left with pit, it, and I. \n",
    "\n",
    "Write a program to find all words that can be reduced in this way, and then find the longest one.\n",
    "\n",
    "This exercise is a little more challenging than most, so here are some suggestions:\n",
    "\n",
    "- You might want to write a function that takes a word and computes a list of all the words that can be formed by removing one letter. These are the “children” of the word.\n",
    "- Recursively, a word is reducible if any of its children are reducible. As a base case, you can consider the empty string reducible.\n",
    "- The word list from [Chapter 9.1](http://www.greenteapress.com/thinkpython/html/thinkpython010.html) Exercise 1 doesn’t contain single letter words. So you might want to add “I”, “a”, and the empty string.\n",
    "- To improve the performance of your program, you might want to memoize the words that are known to be reducible.\n",
    "\n",
    "Allen's solution: http://thinkpython.com/code/reducible.py."
   ]
  },
  {
   "cell_type": "code",
   "execution_count": null,
   "metadata": {
    "collapsed": true,
    "solution": "Exercise 12.6"
   },
   "outputs": [],
   "source": [
    "\"\"\"This is definitely interesting, but I don't think I have time for it\n",
    "this weekend. Lots of other work to get to.\"\"\""
   ]
  },
  {
   "cell_type": "markdown",
   "metadata": {
    "is_question": true,
    "problem": "Feedback"
   },
   "source": [
    "## Reading Journal feedback\n",
    "\n",
    "Have any comments on this Reading Journal? Feel free to leave them below and we'll read them when you submit your journal entry. This could include suggestions to improve the exercises, topics you'd like to see covered in class next time, or other feedback.\n",
    "\n",
    "If you have Python questions or run into problems while completing the reading, you should post them to Piazza instead so you can get a quick response before your journal is submitted."
   ]
  },
  {
   "cell_type": "markdown",
   "metadata": {
    "feedback_response": true,
    "solution": "Feedback"
   },
   "source": [
    "This is starting to get into territory that I really haven't experienced before. Memoization, dictionaries, the differences in use cases between the types of sequences; all stuff that's new to me. I like it, though I hope we can talk about it a bit in class to clarify the concepts a little more. "
   ]
  }
 ],
 "metadata": {
  "celltoolbar": "Edit Metadata",
  "kernelspec": {
   "display_name": "Python 2",
   "language": "python",
   "name": "python2"
  },
  "language_info": {
   "codemirror_mode": {
    "name": "ipython",
    "version": 2
   },
   "file_extension": ".py",
   "mimetype": "text/x-python",
   "name": "python",
   "nbconvert_exporter": "python",
   "pygments_lexer": "ipython2",
   "version": "2.7.6"
  }
 },
 "nbformat": 4,
 "nbformat_minor": 0
}
