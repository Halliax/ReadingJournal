{
 "cells": [
  {
   "cell_type": "markdown",
   "metadata": {},
   "source": [
    "# Day 4 Reading Journal\n",
    "\n",
    "This journal includes several required exercises, but it is meant to encourage active reading more generally.  You should use the journal to take detailed notes, catalog questions, and explore the content from Think Python deeply.\n",
    "\n",
    "Reading: Think Python Chapter 10\n",
    "\n",
    "**Due: Thursday, February 4 at 12 noon**\n",
    "\n"
   ]
  },
  {
   "cell_type": "markdown",
   "metadata": {},
   "source": [
    "## [Chapter 10](http://www.greenteapress.com/thinkpython/html/thinkpython011.html)\n",
    "\n",
    "You may want to review [state diagrams in Chapter 2](http://www.greenteapress.com/thinkpython/html/thinkpython003.html#toc13). [Python Tutor](http://pythontutor.com/) is also helpful for visualizing the state of your program.\n",
    "\n"
   ]
  },
  {
   "cell_type": "markdown",
   "metadata": {},
   "source": [
    "### Exercise 4  \n",
    "Write a function called `middle` that takes a list and returns a new list that contains all but the first and last elements. So `middle([1,2,3,4])` should return `[2,3]`."
   ]
  },
  {
   "cell_type": "code",
   "execution_count": 7,
   "metadata": {
    "collapsed": false
   },
   "outputs": [
    {
     "name": "stdout",
     "output_type": "stream",
     "text": [
      "['boatsboats', 'boatsboatsboats']\n"
     ]
    }
   ],
   "source": [
    "def middle(old_list):\n",
    "    return old_list[1:-1]\n",
    "\n",
    "print middle(['boats','boatsboats','boatsboatsboats','booooooats'])"
   ]
  },
  {
   "cell_type": "markdown",
   "metadata": {},
   "source": [
    "### Exercise 5  \n",
    "Write a function called `chop` that takes a list, modifies it by removing the first and last elements, and returns `None`.\n",
    "\n",
    "What is the difference between `middle` and `chop`? Sketch out the program state or take a look at each in Python Tutor."
   ]
  },
  {
   "cell_type": "code",
   "execution_count": 10,
   "metadata": {
    "collapsed": false
   },
   "outputs": [
    {
     "name": "stdout",
     "output_type": "stream",
     "text": [
      "['only', 'boats']\n",
      "None\n"
     ]
    }
   ],
   "source": [
    "def chop(old_list):\n",
    "    del old_list[0]\n",
    "    del old_list[len(old_list)-1]\n",
    "    return\n",
    "\n",
    "boat_it_is_not_this_day = [\"shhh\",\"only\",\"boats\",\"now\"]\n",
    "chop(boat_it_is_not_this_day)\n",
    "print boat_it_is_not_this_day\n",
    "\n",
    "print chop(boat_it_is_not_this_day)\n",
    "# chop modifies the list itself, while middle just returns an altered\n",
    "# version of the original."
   ]
  },
  {
   "cell_type": "markdown",
   "metadata": {},
   "source": [
    "### Exercise 7  \n",
    "Two words are anagrams if you can rearrange the letters from one to spell the other. Write a function called `is_anagram` that takes two strings and returns `True` if they are anagrams."
   ]
  },
  {
   "cell_type": "code",
   "execution_count": 26,
   "metadata": {
    "collapsed": false
   },
   "outputs": [
    {
     "data": {
      "text/plain": [
       "TestResults(failed=0, attempted=4)"
      ]
     },
     "execution_count": 26,
     "metadata": {},
     "output_type": "execute_result"
    }
   ],
   "source": [
    "def is_anagram(string1,string2):\n",
    "    \"\"\"\n",
    "    checks if two strings are anagrams of each other.\n",
    "\n",
    "    >>> is_anagram('boats','boast')\n",
    "    True\n",
    "\n",
    "    >>> is_anagram('ship','boat')\n",
    "    False\n",
    "\n",
    "    \"\"\"\n",
    "    list1 = list(string1)\n",
    "    list2 = list(string2)\n",
    "    list1.sort()\n",
    "    list2.sort()\n",
    "    if list1 == list2:\n",
    "        return True\n",
    "    else:\n",
    "        return False\n",
    "\n",
    "import doctest\n",
    "doctest.testmod()"
   ]
  },
  {
   "cell_type": "markdown",
   "metadata": {},
   "source": [
    "### Exercise 8  \n",
    "The (so-called) Birthday Paradox:\n",
    "1. Write a function called `has_duplicates` that takes a list and returns `True` if there is any element that appears more than once. It should not modify the original list.\n",
    "2. If there are 23 students in your class, what are the chances that two of you have the same birthday? You can estimate this probability by generating random samples of 23 birthdays and checking for matches. Hint: you can generate random birthdays with the randint function in the [random module](https://docs.python.org/2/library/random.html).\n",
    "\n",
    "You can read about this problem at http://en.wikipedia.org/wiki/Birthday_paradox, and you can download Allen's solution from http://thinkpython.com/code/birthday.py."
   ]
  },
  {
   "cell_type": "code",
   "execution_count": 36,
   "metadata": {
    "collapsed": false
   },
   "outputs": [
    {
     "name": "stdout",
     "output_type": "stream",
     "text": [
      "0.497\n"
     ]
    },
    {
     "data": {
      "text/plain": [
       "TestResults(failed=0, attempted=6)"
      ]
     },
     "execution_count": 36,
     "metadata": {},
     "output_type": "execute_result"
    }
   ],
   "source": [
    "import random\n",
    "\n",
    "def has_duplicates(l):\n",
    "    \"\"\"\n",
    "    Tests if a list contains duplicate values. Returns True if so.\n",
    "    \n",
    "    >>> has_duplicates([1,2,3,4,5])\n",
    "    False\n",
    "    >>> has_duplicates([1,2,3,4,2])\n",
    "    True\n",
    "    \n",
    "    \"\"\"\n",
    "    items = l[:]\n",
    "    items.sort()\n",
    "    i = 1\n",
    "    while i < len(items):\n",
    "        if items[i] == items[i-1]:\n",
    "            return True\n",
    "        i += 1\n",
    "    return False\n",
    "\n",
    "def generate_birthdays(length):\n",
    "    \"\"\"\n",
    "    Generates a list of random integers between 1 and 365.\n",
    "    \"\"\"\n",
    "    result = []\n",
    "    for i in range(length):\n",
    "        result.append(random.randint(1, 365))\n",
    "    return result\n",
    "\n",
    "def probability_of_duplicates(n):\n",
    "    \"\"\"\n",
    "    Empirically estimates the chance that a group of n people will\n",
    "    contain at least one pair with the same birthday.\n",
    "    \"\"\"\n",
    "    count = 0\n",
    "    for i in range(1000):\n",
    "        birthdays = generate_birthdays(n)\n",
    "        if has_duplicates(birthdays):\n",
    "            count += 1\n",
    "    return count/1000.\n",
    "\n",
    "print probability_of_duplicates(23)\n",
    "\n",
    "import doctest\n",
    "doctest.testmod()"
   ]
  },
  {
   "cell_type": "markdown",
   "metadata": {},
   "source": [
    "### Challenge: Exercise 11 (optional)\n",
    "\n",
    "You should read [Chapter 9.1](http://www.greenteapress.com/thinkpython/html/thinkpython010.html) and do Exercise 1 first.\n",
    "\n",
    "To check whether a word is in the word list, you could use the `in` operator, but it would be relatively slow because it searches through the words in order (try it).\n",
    "\n",
    "Because the words are in alphabetical order, we can speed things up with a bisection search (also known as binary search), which is similar to what you do when you look a word up in the dictionary. You start in the middle and check to see whether the word you are looking for comes before the word in the middle of the list. If so, then you search the first half of the list the same way. Otherwise you search the second half.\n",
    "\n",
    "Either way, you cut the remaining search space in half. If the word list has 113,809 words, it will take about 17 steps to find the word or conclude that it’s not there.\n",
    "\n",
    "Write a function called `bisect` that takes a sorted list and a target value and returns the index of the value in the list, if it’s there, or `None` if it’s not.\n",
    "\n",
    "Or you could read the documentation of the `bisect` module and use that! Solution: http://thinkpython.com/code/inlist.py."
   ]
  },
  {
   "cell_type": "code",
   "execution_count": 62,
   "metadata": {
    "collapsed": false
   },
   "outputs": [
    {
     "name": "stdout",
     "output_type": "stream",
     "text": [
      "(10700, 'boats')\n"
     ]
    }
   ],
   "source": [
    "def build_list():\n",
    "    result = []\n",
    "    fin = open('words.txt')\n",
    "    for i,line in enumerate(fin):\n",
    "        indexed_word = (i,line.strip())\n",
    "        result.append(indexed_word)\n",
    "    return result\n",
    "\n",
    "def bisect(word_list,target_word):\n",
    "    \"\"\"\n",
    "    Takes an indexed list of words (tuples of the form (index,word))\n",
    "    and a target word.\n",
    "    Returns (index of target word, target word), or None if the target\n",
    "    word is not in the list.\n",
    "    \"\"\"\n",
    "    index = len(word_list)/2\n",
    "    if word_list[index][1] == target_word:\n",
    "        return word_list[index]\n",
    "    elif len(word_list) <= 1:\n",
    "        return None\n",
    "    elif word_list[index][1] < target_word:\n",
    "#         print 'bisecting upper half'\n",
    "#         print 'length = ', len(word_list)\n",
    "#         print 'guess = ',word_list[index]\n",
    "        return bisect(word_list[index:],target_word)\n",
    "    else:\n",
    "#         print 'bisecting lower half'\n",
    "#         print 'length = ', len(word_list)\n",
    "#         print 'guess = ',word_list[index]\n",
    "        return bisect(word_list[:index],target_word)\n",
    "\n",
    "word_list = build_list()\n",
    "print bisect(word_list,'boats')"
   ]
  },
  {
   "cell_type": "markdown",
   "metadata": {},
   "source": [
    "## Reading Journal feedback\n",
    "\n",
    "Have any comments on this Reading Journal? Feel free to leave them below and we'll read them when you submit your journal entry. This could include suggestions to improve the exercises, topics you'd like to see covered in class next time, or other feedback.\n",
    "\n",
    "If you have Python questions or run into problems while completing the reading, you should post them to Piazza instead so you can get a quick response before your journal is submitted."
   ]
  },
  {
   "cell_type": "markdown",
   "metadata": {},
   "source": [
    " "
   ]
  }
 ],
 "metadata": {
  "kernelspec": {
   "display_name": "Python 2",
   "language": "python",
   "name": "python2"
  },
  "language_info": {
   "codemirror_mode": {
    "name": "ipython",
    "version": 2
   },
   "file_extension": ".py",
   "mimetype": "text/x-python",
   "name": "python",
   "nbconvert_exporter": "python",
   "pygments_lexer": "ipython2",
   "version": "2.7.6"
  }
 },
 "nbformat": 4,
 "nbformat_minor": 0
}
